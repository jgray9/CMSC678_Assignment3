{
 "cells": [
  {
   "cell_type": "code",
   "execution_count": 3,
   "metadata": {},
   "outputs": [],
   "source": [
    "import torch\n",
    "import torch.nn as nn\n",
    "import torch.optim as optim\n",
    "from torch.utils.data import Dataset, DataLoader\n",
    "import matplotlib.pyplot as plt\n",
    "from torchsummary import summary"
   ]
  },
  {
   "cell_type": "code",
   "execution_count": 2,
   "metadata": {},
   "outputs": [],
   "source": [
    "import json, gzip\n",
    "\n",
    "class MNIST_Dataset(Dataset):\n",
    "    def __init__(self, json_data) -> None:\n",
    "        self.features = [torch.FloatTensor(i['image']) for i in json_data]\n",
    "        self.labels = [torch.LongTensor([i['label']]) for i in json_data]\n",
    "    \n",
    "    def __len__(self):\n",
    "        return len(self.features)\n",
    "    \n",
    "    def __getitem__(self, idx):\n",
    "        return self.features[idx], self.labels[idx]\n",
    "\n",
    "train_dataset = None\n",
    "dev_dataset = None\n",
    "test_dataset = None\n",
    "\n",
    "with gzip.open('mnist_rowmajor.jsonl.gz') as file:\n",
    "    trainval_data = []\n",
    "    test_data = []\n",
    "\n",
    "    for sample in [json.loads(line) for line in file]:\n",
    "        if sample['split'] == 'train':\n",
    "            trainval_data.append(sample)\n",
    "        else:\n",
    "            test_data.append(sample)\n",
    "\n",
    "    train_dataset = MNIST_Dataset(trainval_data[:50000])\n",
    "    dev_dataset = MNIST_Dataset(trainval_data[50000:])\n",
    "    test_dataset = MNIST_Dataset(test_data)"
   ]
  },
  {
   "cell_type": "code",
   "execution_count": 3,
   "metadata": {},
   "outputs": [],
   "source": [
    "BATCH_SIZE = 10\n",
    "\n",
    "train_dataloader = DataLoader(train_dataset, batch_size=BATCH_SIZE, shuffle=True)\n",
    "dev_dataloader = DataLoader(dev_dataset, batch_size=BATCH_SIZE, shuffle=True)\n",
    "test_dataloader = DataLoader(test_dataset, batch_size=BATCH_SIZE, shuffle=True)"
   ]
  },
  {
   "cell_type": "code",
   "execution_count": 4,
   "metadata": {},
   "outputs": [],
   "source": [
    "def eval(model: nn.Module, dataloader: DataLoader, criterion: nn.Module):\n",
    "        # statistics\n",
    "    total_loss = 0\n",
    "    total_num = 0\n",
    "    # dataset loop\n",
    "    for x, _ in dataloader:\n",
    "        # forward pass\n",
    "        x_pred = model.forward(x, detach=True)\n",
    "        # update statistics\n",
    "        total_loss += criterion(x_pred, x)\n",
    "        total_num += x.shape[0]\n",
    "    # ret\n",
    "    return total_loss/total_num"
   ]
  },
  {
   "cell_type": "code",
   "execution_count": 5,
   "metadata": {},
   "outputs": [],
   "source": [
    "def train(model: nn.Module, criterion: nn.Module, optimizer: optim.Optimizer, num_epoch = 1):\n",
    "    print(f'{\"\":<10} {\"Train\":^10} {\"Dev\":^10}')\n",
    "    # epoch loop\n",
    "    for epoch in range(num_epoch):\n",
    "        # statistics\n",
    "        total_loss = 0\n",
    "        total_num = 0\n",
    "        # dataset loop\n",
    "        for x, _ in train_dataloader:\n",
    "            # forward pass\n",
    "            x_pred = model.forward(x)\n",
    "            # calculate gradients\n",
    "            loss = criterion(x_pred, x)\n",
    "            loss.backward()\n",
    "            # update statistics\n",
    "            total_loss += criterion(x_pred, x)\n",
    "            total_num += x.shape[0]\n",
    "            # backward pass\n",
    "            optimizer.step()\n",
    "            optimizer.zero_grad()\n",
    "        # output\n",
    "        train_loss = total_loss/total_num\n",
    "        dev_loss = eval(model, dev_dataloader, criterion)\n",
    "        print(f'{f\"Epoch {epoch+1}\":<10} {train_loss:^10.5f} {dev_loss:^10.5f}')"
   ]
  },
  {
   "cell_type": "markdown",
   "metadata": {},
   "source": [
    "### Question 2"
   ]
  },
  {
   "cell_type": "code",
   "execution_count": 47,
   "metadata": {},
   "outputs": [],
   "source": [
    "class AutoEncoder(nn.Module):\n",
    "    def __init__(self) -> None:\n",
    "        super().__init__()\n",
    "        self.encoder = nn.Sequential(\n",
    "            nn.Linear(28*28, 100),\n",
    "            nn.ReLU(),\n",
    "            nn.Linear(100, 50),\n",
    "            nn.ReLU(),\n",
    "            nn.Linear(50, 10)\n",
    "        )\n",
    "        self.decoder = nn.Sequential(\n",
    "            nn.Linear(10, 50),\n",
    "            nn.ReLU(),\n",
    "            nn.Linear(50, 100),\n",
    "            nn.ReLU(),\n",
    "            nn.Linear(100, 28*28),\n",
    "            nn.Sigmoid()\n",
    "        )\n",
    "\n",
    "    def encode(self, x):\n",
    "        z = self.encoder(x)\n",
    "        return z\n",
    "    \n",
    "    def decode(self, z):\n",
    "        pred_x = self.decoder(z)\n",
    "        return pred_x\n",
    "    \n",
    "    def forward(self, x, detach = False):\n",
    "        pred_x = self.decode(self.encode(x))\n",
    "        if detach:\n",
    "            pred_x = pred_x.cpu().detach()\n",
    "        return pred_x"
   ]
  },
  {
   "cell_type": "code",
   "execution_count": 70,
   "metadata": {},
   "outputs": [
    {
     "name": "stdout",
     "output_type": "stream",
     "text": [
      "             Train       Dev    \n",
      "Epoch 1     0.01585    0.01390  \n",
      "Epoch 2     0.01343    0.01326  \n",
      "Epoch 3     0.01303    0.01284  \n",
      "Epoch 4     0.01287    0.01274  \n",
      "Epoch 5     0.01277    0.01275  \n"
     ]
    }
   ],
   "source": [
    "model = AutoEncoder()\n",
    "train(model, nn.BCELoss(), optim.Adam(model.parameters(), lr=0.005), 5)"
   ]
  },
  {
   "cell_type": "code",
   "execution_count": 84,
   "metadata": {},
   "outputs": [
    {
     "data": {
      "image/png": "[encoded data removed]",
      "text/plain": [
       "<Figure size 640x480 with 2 Axes>"
      ]
     },
     "metadata": {},
     "output_type": "display_data"
    }
   ],
   "source": [
    "fig, (ax1, ax2) = plt.subplots(1, 2)\n",
    "\n",
    "x = dev_dataset[torch.randint(0,10000,(1,))][0]\n",
    "x_pred = model.forward(x, detach=True)\n",
    "\n",
    "ax1.imshow(x.view(28,28))\n",
    "ax2.imshow(x_pred.view(28,28))\n",
    "\n",
    "plt.show()"
   ]
  }
 ],
 "metadata": {
  "kernelspec": {
   "display_name": ".venv",
   "language": "python",
   "name": "python3"
  },
  "language_info": {
   "codemirror_mode": {
    "name": "ipython",
    "version": 3
   },
   "file_extension": ".py",
   "mimetype": "text/x-python",
   "name": "python",
   "nbconvert_exporter": "python",
   "pygments_lexer": "ipython3",
   "version": "3.11.9"
  }
 },
 "nbformat": 4,
 "nbformat_minor": 2
}
